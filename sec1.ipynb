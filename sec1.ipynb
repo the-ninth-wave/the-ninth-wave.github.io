{
 "cells": [
  {
   "cell_type": "markdown",
   "metadata": {
    "id": "XZuXYfmJPu3l"
   },
   "source": [
    "# **1 ... Prep**"
   ]
  },
  {
   "cell_type": "markdown",
   "metadata": {
    "id": "LsL_cLc0N15E"
   },
   "source": [
    "( from Tuca's Spring 2019 spin glass course )\n",
    "\n",
    "_Reading_\n",
    "\n",
    "* Newman-Stein\n",
    "\n",
    "* Mezard-Parisi-Virasoro\n",
    "\n",
    "* de Dominicis-Giardina\n",
    "\n",
    "* Panchenko\n",
    "\n",
    "* Talagrand vol. 1,2\n",
    "\n",
    "  * emphasis Ch. 13 - Ch. 15 of volume 2\n",
    "\n",
    "* Mezard-Montanari\n",
    "\n",
    "* Bovier"
   ]
  },
  {
   "cell_type": "markdown",
   "metadata": {
    "id": "E8nqL70nX2d4"
   },
   "source": [
    "## **1.1 ... Introduction**\n",
    "\n",
    "_(from Tuca's 4/1/19 lecture)_\n",
    "\n",
    "_to add:_\n",
    "* _references_"
   ]
  },
  {
   "cell_type": "markdown",
   "metadata": {
    "id": "LDFcZvw3OkOa"
   },
   "source": [
    "___ \n",
    "\n",
    "**Example** (Mixed $p$-spin models)**.** $\\quad$ Let $\\Sigma_N$ denote either the hypercube $\\{ \\pm 1 \\}^N$ or the sphere\n",
    "\n",
    "$$\n",
    "\\mathbb{S}_N \\triangleq \\{ x \\in \\mathbb{R}^N : \\| x \\|^2 = N \\},\n",
    "$$\n",
    "\n",
    "which contains the hypercube. Let $(\\beta_p)_{p \\geq 1}$ be a sequence of non-negative numbers, and we suppose\n",
    "\n",
    "$$\n",
    "\\sum_{p \\geq 1} \\beta_p^2 < \\infty .\n",
    "$$\n",
    "\n",
    "Given such a sequence, we define the model function $\\xi : \\mathbb{R} \\to \\mathbb{R}$ via\n",
    "\n",
    "$$\n",
    "\\xi(x) \\triangleq \\sum_{p\\geq 1} \\beta_p^2 x^p\n",
    "$$\n",
    "\n",
    "as well as the associated **_Hamiltonian_** $H_N : \\mathbb{S}_N \\to \\mathbb{R}$, where for $s \\in \\mathbb{S}$,\n",
    "\n",
    "$$\n",
    "H_N(s) \n",
    "  := \n",
    "  \\sum_{p \\geq 1} \n",
    "  \\beta_p N^{- (p-1)/2} \n",
    "  \\sum_{ i_1, \\dots, i_p } \n",
    "  g_{i_1, \\dots, i_p} \n",
    "  s_{i_1} \n",
    "  \\cdot \\dots \\cdot\n",
    "  s_{i_p},\n",
    "$$\n",
    "\n",
    "where the $g_{i_1, \\dots, i_p}$ are i.i.d. standard normal random variables. The model function and the associated Hamiltonian constitute the **_mixed $p$-spin model_** associated to $(\\beta_p)$. \n",
    "\n",
    "The Hamiltonian is a random function on $\\mathbb{S}_N$; the model coefficients $\\beta_p$ are taken to be square-summable to ensure that the object $H_N$ is a.s. smooth. \n",
    "\n",
    "The covariance structure of $H_N$ is a function of the sphere's geometry: letting $\\langle \\cdot, \\cdot \\rangle$ denote the Euclidean inner product,\n",
    "\n",
    "$$\n",
    "\\mathbb{E} H_N (s) H_N(t) = N \\xi \\left(\n",
    "  N^{-1}\n",
    "  \\langle s , t \\rangle\n",
    "\\right)\n",
    "$$\n",
    "\n",
    "___\n"
   ]
  },
  {
   "cell_type": "markdown",
   "metadata": {
    "id": "7aLGMT9iZhEN"
   },
   "source": [
    "Let us write \n",
    "\n",
    "$$\n",
    "R_{1\\text{-}2} := N^{-1} \\langle s, t \\rangle\n",
    "\\equiv\n",
    "  \\frac{ \n",
    "    \\langle s, t \\rangle \n",
    "    }\n",
    "    { \n",
    "      \\|s \\| \\|t\\|\n",
    "      } \n",
    "$$\n",
    "\n",
    "when $s$ and $t$ are implicit, we refer to $R_{1\\text{-}2}$ as their **_overlap_**."
   ]
  },
  {
   "cell_type": "markdown",
   "metadata": {
    "id": "8HBv-zwQblha"
   },
   "source": [
    "When $\\xi(x) = x^p$, the model is called the **_pure $p$-spin model_**. The pure $2$-spin model is more commonly known as the **_Sherrington-Kirkpatrick model_**. We prepend \"spherical\" to the model name when $\\Sigma_N = \\mathbb{S}_N$ and omit this otherwise. "
   ]
  },
  {
   "cell_type": "markdown",
   "metadata": {
    "id": "-ANoE7Eoc82F"
   },
   "source": [
    "In any case, we regard $H_N$ as an _energy landscape_. Here are examples of questions one can ask about $H_N$:\n",
    "\n",
    "* Can we describe the asymptotic topology of the sublevel sets of these models?\n",
    "\n",
    "* What is the asymptotic ground state energy of such models, i.e., can one show for some $c < 0$ that\n",
    "\n",
    "$$\n",
    "\\min_{s \\in \\mathbb{S}} \\frac{H_N(s)}{N} \\to c \\quad \\text{a.s.}\\, ?\n",
    "$$"
   ]
  },
  {
   "cell_type": "markdown",
   "metadata": {
    "id": "PxU-bMg-d48m"
   },
   "source": [
    "Given an _inverse temperature_ parameter $\\beta >0 $ (not related to the $\\beta_p$), we can form the **_Gibbs measure_** $\\mu_{N,\\beta}$ associated to the Hamiltonian $H_N$ and this $\\beta$. We suppress the dependence of $\\mu_{N,\\beta}$ on the model function $\\xi$. \n",
    "\n",
    "The Gibbs measure $\\mu_{N,\\beta}$ is thus a random probability measure on the state space $\\Sigma_N$. \n",
    "\n",
    "When $\\Sigma_N = \\mathbb{S}_N$ let us conflate the Gibbs measure $\\mathcal{G}_{N,\\beta}$ with the density which defines it, notationally. The density is with respect to the natural volume measure $\\textrm{vol}_N$ on $\\mathbb{S}_N$. \n",
    "\n",
    "$$\n",
    "\\mathcal{G}_{N, \\beta}(s) := \\frac{1}{ \\mathcal{Z}_{N,\\beta} } \\exp \\left( - \\beta H_N(s) \\right) \\,\\textrm{vol}_N(\\textrm{d} s), \n",
    "$$\n",
    "\n"
   ]
  },
  {
   "cell_type": "markdown",
   "metadata": {
    "id": "-5eQ_ld_jAvv"
   },
   "source": [
    "where $\\mathcal{Z}_{N,\\beta}$ is the **_partition function_** of $\\mathcal{G}_{N,\\beta}$, a random normalizing constant of fundamental importance in statistical mechanics. \n",
    "\n",
    "When $\\Sigma_N = \\{\\pm 1\\}$, the Gibbs measure $\\mathcal{G}_{N,\\beta}$ is defined analogously. Examples of questions one can ask about these new objects:\n",
    "\n",
    "* Can one compute the limiting **_free energy_** of the model,\n",
    "  $$\n",
    "\\lim_{N \\to \\infty} \n",
    "\\frac{1}{N} \n",
    "\\log \n",
    "\\mathcal{Z}_{N,\\beta}\n",
    "  $$\n",
    "  if it exists? "
   ]
  },
  {
   "cell_type": "markdown",
   "metadata": {
    "id": "lvcIecyTlbvk"
   },
   "source": [
    "In the setting of the pure $p$-spin model, for instance, fix a realization of the _disorder_ $g_{i_1, \\dots, i_p}$. For $\\beta >0$ given, consider the associated Gibbs measure $\\mathcal{G}_{N,\\beta}$. \n",
    "\n",
    "Let $\\mathcal{G}_{N,\\beta}^{\\otimes 2}$ denote the law of a pair of _configurations_ (elements $s,t$ of the state space $\\Sigma_N$), where the two random variables are sampled from $\\mathcal{G}_{N,\\beta}$, independently of one another. \n",
    "\n",
    "For such a pair $(s,t) \\equiv (s_{N,\\beta}, t_{N,\\beta}) \\sim \\mathcal{G}_{N,\\beta}^{\\otimes 2}$, we can form the **_overlap random variable_**\n",
    "\n",
    "$$\n",
    "R_{1\\text{-}2} \\triangleq R_{1\\text{-}2}(s,t) \n",
    "$$\n",
    "\n",
    "* What can be said about the asymptotic behavior of this random variable, especially as a function of $\\beta$?"
   ]
  },
  {
   "cell_type": "markdown",
   "metadata": {
    "id": "FAUaMx2jn012"
   },
   "source": [
    "Studying the overlap random variable to study the associated Gibbs measure is a way to leverage a phrase I hear repeated by experts, roughly: \"we don't know the ground states of the system, but the system _does_.\" "
   ]
  },
  {
   "cell_type": "markdown",
   "metadata": {
    "id": "SznVK-9ko0pP"
   },
   "source": [
    "## **1.2 ... Gaussians**\n",
    "\n",
    "_(4/3/19)_\n",
    "\n",
    "_to add:_\n",
    "* _proofs_\n",
    "* _references_"
   ]
  },
  {
   "cell_type": "markdown",
   "metadata": {
    "id": "40mh8bWxo6eH"
   },
   "source": [
    "Here is the Gaussian integration by parts formula:"
   ]
  },
  {
   "cell_type": "markdown",
   "metadata": {
    "id": "b_YqXgMMpwVE"
   },
   "source": [
    "___\n",
    "\n",
    "**Lemma 1.2.1.** $\\quad$ Let $X$ be a centered Gaussian random variable with variance $\\sigma^2$. Let $f \\in C^1(\\mathbb{R})$ with good decay. Then\n",
    "\n",
    "$$\n",
    "\\mathbb{E} X f(X) = \\sigma^2 \\mathbb{E} f'(X)\\,.\n",
    "$$\n",
    "\n",
    "More generally, let $X \\equiv (X_1, \\dots, X_d)$ be a centered Gaussian vector. Let $F : \\mathbb{R}^d \\to \\mathbb{R}$ be a $C^1$ function with good decay. Then,\n",
    "\n",
    "$$\n",
    "\\mathbb{E} X_1 F(X) = \\sum_{i=1}^d \\mathbb{E} X_1 X_i \\partial_i F(X)\n",
    "$$\n",
    "***\n",
    "\n"
   ]
  },
  {
   "cell_type": "markdown",
   "metadata": {
    "id": "GQrOXcBCrVce"
   },
   "source": [
    "The proof is an exercise. We state a version of integration by parts specific to Gibbs measures induced by Gaussian energy landscapes. \n",
    "\n",
    "Let $\\Sigma$ denote a **_state space_**, equipped with a deterministic reference measure $\\mu$. \n",
    "\n",
    "Let $H$ be a centered Gaussian process on $(\\Sigma, \\mu)$, and let $\\mathcal{G}$ denote the associated Gibbs measure ($\\beta =_{\\text{set}} 1$), given by\n",
    "\n",
    "$$\n",
    "\\mathcal{G}(s) \\triangleq \\frac{1}{\\mathcal{Z}} \\exp \\left( H(s)\\right) \\,  \\mu (\\textrm{d} s)\n",
    "$$"
   ]
  },
  {
   "cell_type": "markdown",
   "metadata": {
    "id": "LVGmflrnv9ll"
   },
   "source": [
    "Let us use $\\mathbf{\\prec} \\cdot \\mathbf{\\succ}$ to denote expectation with respect to the product measure $\\mathcal{G}^{\\,\\otimes\\infty}$: for all $k \\geq 1$ and functions $f : \\Sigma^k \\to \\mathbb{R}$,\n",
    "\n",
    "$$\n",
    "\\mathbf{\\prec}\\, f \\, \\mathbf{\\succ}\\equiv \\mathbf{\\prec} f( s^{(1)}, \\dots,s^{(k)} ) \\mathbf{\\succ} \\\\\n",
    "\\triangleq \\int_{\\Sigma^k} f( s^{(1)}, \\dots, s^{(k)} ) \\mathcal{G}(\\textrm{d} s^{(1)} ) \\dots \\mathcal{G}( \\textrm{d} s^{(k)} )\n",
    "$$"
   ]
  },
  {
   "cell_type": "markdown",
   "metadata": {
    "id": "dMpE6dOKMZdh"
   },
   "source": [
    "Above, the sampling from the product measure $\\mathcal{G}$ is done with the _same realization of the disorder_ $H$ in every coordinate. \n",
    "\n",
    "This is to say, $s^{(1)}, \\dots, s^{(k)}$ are independent samples from the _same_ random measure $\\mathcal{G}$, which we refer to as **_replicas_**. "
   ]
  },
  {
   "cell_type": "markdown",
   "metadata": {
    "id": "QsJMvIk9ll0c"
   },
   "source": [
    "Under this notation, the Gibbs-expected value of the observable $R_{1\\text{-}2}$ is denoted\n",
    "\n",
    "$$\n",
    "\\mathbf{\\prec} R_{1\\text{-}2} \\mathbf{\\succ}\n",
    "$$\n",
    "\n",
    "for instance. Note that given any deterministic observable $f$, the object $\\mathbf{\\prec} f \\mathbf{\\succ}$ is a random variable; it is the average of a deterministic function with respect to a _random_ probability measure. "
   ]
  },
  {
   "cell_type": "markdown",
   "metadata": {
    "id": "k9z_9JBpmDBd"
   },
   "source": [
    "___\n",
    "**Lemma 1.2.2** (Integration by parts with disordered Gibbs measures)**.** $\\quad$ Let $(\\Sigma, H, \\mathcal{G})$ be as above, and let $X : \\Sigma \\to \\mathbf{R}$ be a Gaussian process. For $s,t \\in \\Sigma$, define\n",
    "$$\n",
    "C(s,t) \\triangleq \\mathbb{E} X(s) H(t) .\n",
    "$$\n",
    "Then,\n",
    "$$\\mathbb{E} \\mathbf{\\prec} X(s) \\mathbf{\\succ}\n",
    "  =\n",
    "    \\mathbb{E}\n",
    "    \\mathbf{\\prec}\n",
    "    C(s^{(1)}, s^{(1)})\n",
    "    - C(s^{(1)}, s^{(2)})\n",
    "    \\mathbf{\\succ}$$\n",
    "\n",
    "___"
   ]
  },
  {
   "cell_type": "markdown",
   "metadata": {
    "id": "VgQ7eggAnTDx"
   },
   "source": [
    "To be clear, for fixed $s,t \\in \\Sigma$, $C(s,t)$ is a constant. We use this to form a deterministic function $f$ of two replicas, specifically\n",
    "\n",
    "$$\n",
    "f ( s^{(1)}, s^{(2)} ) \n",
    "  \\equiv\n",
    "    C(s^{(1)}, s^{(1)})\n",
    "    -\n",
    "    C(s^{(1)}, s^{(2)})\n",
    "$$\n",
    "\n",
    "The right-hand side of the display of the above lemma is just \n",
    "\n",
    "$$\n",
    "\\mathbb{E} \\mathbf{\\prec} f \\mathbf{\\succ}\n",
    "$$\n",
    "\n",
    "for this specific choice of $f$. "
   ]
  },
  {
   "cell_type": "markdown",
   "metadata": {
    "id": "W_qj_0SUoZl7"
   },
   "source": [
    "## **1.3 ... Large deviations**\n",
    "\n",
    "_(4/5/19)_\n",
    "\n",
    "_to add:_\n",
    "* _Legendre transform_\n",
    "* _Link to references_"
   ]
  },
  {
   "cell_type": "markdown",
   "metadata": {
    "id": "rFI9UeHMo1AY"
   },
   "source": [
    "Recall the definition of a large deviation principle."
   ]
  },
  {
   "cell_type": "markdown",
   "metadata": {
    "id": "DQAGw3Szo3tl"
   },
   "source": [
    "___\n",
    "**Definition 1.3.1.** $\\quad$ A sequence of measures $\\mu_N$ on a topological space $\\mathcal{X}$ satisfies a **_large deviation principle_** (LDP) with **_rate function_** $I : \\mathcal{X} \\to [0,\\infty]$ if for all $A \\subset \\mathcal{X}$,\n",
    "\n",
    "$$\n",
    "-\\inf_{x \\in A^\\circ} I(x)\n",
    "\\leq\n",
    "\\liminf_{N \\to \\infty} \n",
    "  \\frac{1}{N}\n",
    "  \\log \\mu_N(A)\n",
    "\\leq\n",
    "\\limsup_{N \\to \\infty}\n",
    "  \\frac{1}{N}\n",
    "  \\log \\mu_N(A) \n",
    "\\leq\n",
    "- \\inf_{x \\in \\overline{A}} I(x),\n",
    "$$\n",
    "where $A^\\circ$ and $\\overline{A}$ denote the interior of $A$ and the closure of $A$ respectively.\n",
    "\n",
    "___"
   ]
  },
  {
   "cell_type": "markdown",
   "metadata": {
    "id": "oAJELATwq-NW"
   },
   "source": [
    "A sequence $(\\mu_N)$ satisfying a LDP with rate function $I$ roughly behaves as\n",
    "\n",
    "$$\n",
    "\\mu_N(A) \n",
    "  \\approx \n",
    "    \\exp \\left( - N \\inf_{x \\in A} I(x) \\right)\n",
    "$$\n",
    "\n",
    "A rate function $I$ is a **_good rate function_** if its sublevel sets are compact."
   ]
  },
  {
   "cell_type": "markdown",
   "metadata": {
    "id": "WV4kliPwraj1"
   },
   "source": [
    "___\n",
    "**Theorem 1.3.2** (Varadhan's Lemma)**.** $\\quad$ Let $\\mu_N$ be a sequence of probability measures satisfying a LDP with good rate function $I$. Let $\\varphi$ be a continuous function with good decay: there is $\\gamma >1$ with \n",
    "\n",
    "$$\n",
    "\\limsup_{N \\to \\infty} \n",
    "  \\int \\exp \\left(\\, \\gamma N \\varphi(x)\\, \\right) \\mu_N(\\textrm{d} x) < \\infty.\n",
    "$$\n",
    "\n",
    "Then,\n",
    "\n",
    "$$\n",
    "\\lim_{N \\to \\infty}\n",
    "  \\frac{1}{N} \n",
    "  \\log\n",
    "  \\int\n",
    "  \\exp \\left(\\,\n",
    "    N \\varphi(x) \\,\n",
    "    \\right)\n",
    "    \\mu_N( \\textrm{d} x) \n",
    "      =\n",
    "  \\sup_{x \\in \\mathcal{X}}\n",
    "  \\left( \\,\n",
    "    \\varphi(x) -I(x) \\,\n",
    "  \\right)\n",
    "$$\n",
    "\n",
    "___"
   ]
  },
  {
   "cell_type": "markdown",
   "metadata": {
    "id": "6T6-vkHdsnlc"
   },
   "source": [
    "Setting $\\varphi \\equiv 0$ recovers the LDP. A good reference is Section 4.3 of Dembo-Zeitouni. "
   ]
  },
  {
   "cell_type": "markdown",
   "metadata": {
    "id": "kqTcY33651_K"
   },
   "source": [
    "___\n",
    "**Theorem 1.3.3** (Bryc's inverse)**.** $\\quad$ Consider a sequence of measures $(\\mu_N)$ on a topological space $\\mathcal{X}$ such that for every bounded, continuous $\\varphi : \\mathcal{X} \\to \\mathbb{R}$, we have\n",
    "\n",
    "$$\n",
    "\\lim_{N \\to \\infty}\n",
    "\\frac{1}{N}\n",
    "\\log\n",
    "\\int\n",
    "  \\exp( N \\varphi(x) ) \\mu_N( \\textrm{d} x) \n",
    "  =\n",
    "  \\sup_{x \\in \\mathcal{X}}\n",
    "  ( \\, \\varphi(x) -I(x) \\, ).\n",
    "$$\n",
    "Then $(\\mu_N)$ satisfies a LDP with rate function $I$.\n",
    "___"
   ]
  },
  {
   "cell_type": "markdown",
   "metadata": {
    "id": "r578g13xs-dl"
   },
   "source": [
    "___\n",
    "\n",
    "**Example 2** (Curie-Weiss)**.** $\\quad$ This is a mean-field ferromagnet. Let $\\Sigma_N = \\{ \\pm 1\\}^N$, and define the _disorderless_ Hamiltonian $H_N : \\Sigma_N \\to \\mathbb{R}$ defined by\n",
    "\n",
    "$$\n",
    "H_N^{{\\small\\textrm{(cw)}}} (s) \\triangleq \\frac{1}{N} \\sum_{i,j} s_i s_j,\n",
    "$$\n",
    "\n",
    "for $s \\in \\Sigma_N$. For $\\beta >0$, let us introduce the associated Gibbs measure on $\\Sigma_N$, it is defined by\n",
    "\n",
    "$$\n",
    "\\mathcal{G}_{N,\\beta}^{\\,{\\small\\textrm{(cw)}}} (s) \n",
    "  \\triangleq \\left( \\mathcal{Z}_{N,\\beta}^{{\\small\\textrm{(cw)}}} \\right)^{-1}\n",
    "  \\exp \\left( - \\beta H_N^{{\\small\\textrm{(cw)}}} (s) \\right)\n",
    "$$\n",
    "\n",
    "for $s \\in \\Sigma_N$, with the usual definition of the partition function:\n",
    "\n",
    "$$\n",
    "\\mathcal{Z}_{N,\\beta}^{{\\small\\textrm{(cw)}}}\n",
    "  \\triangleq \n",
    "    \\sum_{s \\in \\Sigma_N} \\exp \\left( - \\beta H_N^{{\\small\\textrm{(cw)}}} (s) \\right)\n",
    "$$\n",
    "\n",
    "This is the **_Curie-Weiss model_**.\n",
    "\n",
    "___"
   ]
  },
  {
   "cell_type": "markdown",
   "metadata": {
    "id": "QV5rshdL15zt"
   },
   "source": [
    "In ferromagnets, the **_order parameter_** (object which detects phase transitions) is the **_magnetization_**. The finite-N definition of this object is the random variable\n",
    "\n",
    "$$\n",
    "m_N (s) \\triangleq \\frac{1}{N} \\sum_{i=1}^N s_i ,\n",
    "$$\n",
    "\n",
    "with \n",
    "$$\n",
    "s \n",
    "  \\sim \n",
    "    \\mathcal{G}_{N,\\beta}^\n",
    "    { \\, \\small{\\textrm{(cw)}} }\n",
    "$$"
   ]
  },
  {
   "cell_type": "markdown",
   "metadata": {
    "id": "ATeJmEXg42Vg"
   },
   "source": [
    "The magnetization measures the average alignment of the spins. The proof of the following theorem can be found in Bovier's book on disordered systems, it uses Varadhan's lemma and Bryc's inverse."
   ]
  },
  {
   "cell_type": "markdown",
   "metadata": {
    "id": "B67GAzJt7Nj5"
   },
   "source": [
    "___\n",
    "**Theorem 1.3.4.** $\\quad$ Below, let $m$ denote the magnetization $m_N(s)$, with $s \\sim \\mathcal{G}_{N,\\beta}^{\\small{\\textrm{(cw)}}}$. \n",
    "There is $\\beta_c > 0$ such that\n",
    "\n",
    "1.   When $\\beta \\leq \\beta_c$: for all $\\epsilon >0$ there is $c(\\epsilon) >0$ such that\n",
    "$$\n",
    "\\mathcal{G}_{N,\\beta}^{\\,\\small{\\textrm{(cw)}}} \\left( \\, m \\in (- \\epsilon, \\epsilon)  \\,\n",
    "\\right)\n",
    "\\geq\n",
    "1-\\exp(-cN)\n",
    "$$\n",
    "2.   When $\\beta > \\beta_c$: there is $m_* \\equiv m_*(\\beta) > 0$, such that for all $\\epsilon >0$, there is $c(\\epsilon, \\beta) >0$ with\n",
    "$$\n",
    "\\mathcal{G}_{N,\\beta}^{\\,\\small{\\textrm{(cw)}}} \\left(\\,\n",
    "  m \\in\n",
    "  (m_* -\\epsilon, m_* +\\epsilon) \\cup\n",
    "  (-m_* -\\epsilon, -m_* +\\epsilon) \\,\n",
    "  \\right)\n",
    "  \\geq\n",
    "  1 - \\exp ( -N c) \n",
    "$$\n",
    "\n",
    "___"
   ]
  },
  {
   "cell_type": "markdown",
   "metadata": {
    "id": "jBIhcuyK_QGV"
   },
   "source": [
    "Thus, at high temperatures, namely when $\\beta \\leq \\beta_c$, the magnetization localizes around $\\{0\\}$. At low temperatures, it localizes around the two points $\\{ \\pm m_*(\\beta) \\}$, due to spin-flip symmetry."
   ]
  },
  {
   "cell_type": "markdown",
   "metadata": {
    "id": "ZWa1n1POA8iV"
   },
   "source": [
    "## **1.4 ... The Ising model**\n",
    "\n",
    "_(4/8/19)_\n",
    "\n",
    "_to add:_\n",
    "* _references_ "
   ]
  },
  {
   "cell_type": "markdown",
   "metadata": {
    "id": "_Of8sXfcCYJd"
   },
   "source": [
    "We use the notation $V \\Subset \\mathbb{Z}^d$ for a finite subset of the vertex set of $\\mathbb{Z}^d$. Consider a physical system with state space $\\Sigma_V \\triangleq \\{ \\pm 1 \\}^V$. The **_Ising model_** on $V$, with **_external (magnetic) field_** $h \\in \\mathbb{R}$ and **_free boundary conditions_** (indicated by the \"$0$\" in the subscript) is characterized by the following Hamiltonian \n",
    "\n",
    "$$\n",
    "H_{V,\\,h,\\, 0}^{\\small\\textrm{(Ising)}}(s)\n",
    "    \\triangleq\n",
    "        - \\left( \\sum_{\\substack{x,\\,y\\, \\in\\, V\\\\ x\\, \\sim \\, y}}  s_x s_y + h \\sum_{x \\,\\in \\, V} s_x \\right),\n",
    "$$\n",
    "\n",
    "where $s \\in \\{ \\pm 1 \\}^V$ is called a **_spin configuration_**. The left-most sum is indexed by unordered pairs $x,y$ of _adjacent_ vertices in $V$, inheriting its graph structure from the usual one on the ambient graph $\\mathbb{Z}^d$. "
   ]
  },
  {
   "cell_type": "markdown",
   "metadata": {},
   "source": [
    "Given $V$ as above, we define a configuration of **_boundary conditions_** as an element $\\omega$ of\n",
    "\n",
    "$$\n",
    "\\{ \\pm1 \\}^{\\mathbb{Z}^d \\setminus V } \n",
    "$$\n",
    "\n",
    "The **_Ising model on $V$ with boundary conditions $\\omega \\in \\{ \\pm1 \\}^{\\mathbb{Z}^d \\setminus V}$_** is characterized by the following Hamiltonian:"
   ]
  },
  {
   "cell_type": "markdown",
   "metadata": {},
   "source": [
    "\n",
    "$$\n",
    "H_{V,\\,h,\\, \\omega}^{\\small\\textrm{(Ising)}}(s)\n",
    "    \\triangleq\n",
    "        - \\left(\\sum_{\\substack{x,\\,y\\, \\in\\, V\\\\ x\\, \\sim \\, y}}  s_x s_y + h \\sum_{x \\,\\in \\, V} s_x\\right) - H_\\partial(\\omega),\n",
    "$$\n",
    "\n",
    "The last term $H_\\partial(\\omega)$ enforces the boundary conditions $\\omega$ as follows: \n",
    "\n",
    "$$\n",
    "H_\\partial(\\omega)\n",
    "    \\triangleq \n",
    "        -\\sum_{\n",
    "        \\substack{\n",
    "        u \\, \\sim \\, v\\\\\n",
    "        u\\, \\in\\, \\partial_{\\Large\\circ} V, \\\\ v\\, \\in \\, \\partial_{\\Large\\bullet} V \n",
    "        }\n",
    "        } s_u \\omega_v .\n",
    "$$\n",
    "\n",
    "Above, $\\partial_{\\Large \\circ} V$ is the **_internal vertex boundary_** of $V$, \n",
    "\n",
    "$$\n",
    "\\partial_{\\Large\\circ} V \\triangleq \\{ v \\in V : \\exists w \\in V^{\\textrm{c}} \\text{ such that } v \\sim w \\},\n",
    "$$\n",
    "\n",
    "\n",
    "and $\\partial_{\\Large\\bullet} V$ is the **_external vertex boundary_** of $V$, \n",
    "\n",
    "$$\n",
    "\\partial_{\\Large\\bullet} V \\triangleq \\{ v \\in V^{\\, \\textrm{c}} : \\exists w \\in V \\text{ such that } v \\sim w \\}.\n",
    "$$\n",
    "\n"
   ]
  },
  {
   "cell_type": "markdown",
   "metadata": {},
   "source": [
    "The Ising model is a nearest-neighbor model, thus all boundary conditions which agree on $\\partial_{\\Large\\bullet} V$ induce the same Hamiltonian. For boundary conditions $\\omega$ with $\\omega_v \\equiv -1$ (respectively $\\omega_v \\equiv +1$) for all $v \\in \\partial_{\\Large\\bullet} V$, we denote the associated Hamiltonian by\n",
    "\n",
    "$$\n",
    "H_{V,\\,h,\\,-}^{\\small{\\textrm{(Ising)}}}\\quad\\,\\text{(respectively } H_{V,\\,h,\\,+}^{\\small{\\textrm{(Ising)}}}\\,)\n",
    "$$"
   ]
  },
  {
   "cell_type": "markdown",
   "metadata": {
    "id": "ahz1OKuRD70k"
   },
   "source": [
    "For inverse temperature parameter $\\beta >0$, define the parition function of this model by\n",
    "\n",
    "$$\n",
    "\\mathcal{Z}_{V, \\,\\beta,\\, h,\\,\\omega}^{\\, \\small{\\textrm{(Ising)}}}\n",
    "    \\triangleq\n",
    "        \\sum_{s\\, \\in\\, \\Sigma_V} \\exp \\left(- \\beta H_{V,\\,h,\\,\\omega}^{\\,\\small{\\textrm{(Ising)}}}(s) \\right)\n",
    "$$\n"
   ]
  },
  {
   "cell_type": "markdown",
   "metadata": {},
   "source": [
    "We wish to study the limiting free energy for an exhaustive sequence $V_N \\uparrow \\mathbb{Z}^d$, first by showing this limit exists. One can show for $V,W \\subset \\mathbb{Z}^d$ disjoint, we have\n",
    "\n",
    "$$\n",
    "\\log \\left( \\mathcal{Z}_{V \\cup W, \\,\\beta,\\, h,\\,0}^{\\, \\small{\\textrm{(Ising)}}}\\right) \\geq \n",
    "    \\log \\left(\\mathcal{Z}_{V, \\,\\beta, \\,h,\\,0}^{\\, \\small{\\textrm{(Ising)}}} \\right)\n",
    "    +\n",
    "    \\log  \\left(\\mathcal{Z}_{W, \\,\\beta, \\,h,\\,0}^{\\, \\small{\\textrm{(Ising)}}} \\right)\n",
    "$$"
   ]
  },
  {
   "cell_type": "markdown",
   "metadata": {},
   "source": [
    "This sub-additivity of the free energy allows one to use Fekete's lemma to deduce that if $V_N$ is an exhaustive sequence of discrete boxes, i.e.\n",
    "\n",
    "$$\n",
    "V_N =_{\\small{\\textrm{set}}} [-N,N]^d \\cap \\mathbb{Z}^d,\n",
    "$$\n",
    "\n"
   ]
  },
  {
   "cell_type": "markdown",
   "metadata": {},
   "source": [
    "the limit\n",
    "\n",
    "$$\n",
    "\\lim_{N \\to \\infty} \\frac{1}{\\# V_N} \\log \\mathcal{Z}_{V_N,\\, \\beta, \\,h,\\,0}^{\\,\\small{\\textrm{(Ising)}}}\n",
    "$$\n",
    "\n",
    "exists, and lies in $[0,\\infty]$. "
   ]
  },
  {
   "cell_type": "markdown",
   "metadata": {},
   "source": [
    "We'll now compute this limit exactly in $d=1$. We use the _transfer matrix method_, discovered in the '30s. This method works nicely when the boundary conditions of the model are periodic. For $V_N$ as just above, and in $d=1$, the **_Ising Hamiltonian on $V_N$ with periodic boundary conditions_** is the following function of spin configurations $s \\in V_N^{\\pm1}$\n",
    "\n",
    "$$\n",
    "H_{V_N, \\, h , \\,\\circlearrowright}^{\\small{\\textrm{(Ising)}}}(s) \\triangleq \n",
    "H_{V_N,\\,h,\\,0}^{\\small{\\textrm{(Ising)}}}(s)\n",
    "+ s_{-N} s_N\n",
    "$$\n",
    "\n",
    "We will specialize to this setting. Due to the periodicity in the Hamiltonian, it is nearly equivalent to specialize to the sequence of domains\n",
    "\n",
    "$$\n",
    "V_N \\triangleq [0,N-1] \\cap \\mathbb{Z},\n",
    "$$\n",
    "\n",
    "with Hamiltonian given by\n",
    "\n",
    "$$\n",
    "H_N(s) = \\sum_{ i } s_i s_{i+1} + h\\sum_{i=1}^N s_i,\n",
    "$$\n",
    "\n",
    "with $s_N \\triangleq s_0$, which is to say that addition in the subscript is defined modulo $N$.\n",
    "\n"
   ]
  },
  {
   "cell_type": "code",
   "execution_count": null,
   "metadata": {},
   "outputs": [],
   "source": []
  }
 ],
 "metadata": {
  "colab": {
   "authorship_tag": "ABX9TyOkdr4+Su6XqD7IhU/woz4e",
   "collapsed_sections": [],
   "name": "chap1.ipynb",
   "provenance": []
  },
  "kernelspec": {
   "display_name": "Python 3",
   "language": "python",
   "name": "python3"
  },
  "language_info": {
   "codemirror_mode": {
    "name": "ipython",
    "version": 3
   },
   "file_extension": ".py",
   "mimetype": "text/x-python",
   "name": "python",
   "nbconvert_exporter": "python",
   "pygments_lexer": "ipython3",
   "version": "3.9.0"
  }
 },
 "nbformat": 4,
 "nbformat_minor": 1
}
